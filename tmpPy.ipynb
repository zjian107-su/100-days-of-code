{
 "cells": [
  {
   "cell_type": "code",
   "execution_count": 3,
   "metadata": {},
   "outputs": [
    {
     "name": "stdout",
     "output_type": "stream",
     "text": [
      "[['A', 1], ['B', 2], ['C', 3]]\n",
      "C 3\n",
      "B 2\n",
      "A 1\n"
     ]
    }
   ],
   "source": [
    "symList = [['A', 1],['B', 2],['C', 3]]\n",
    "print(symList)\n",
    "\n",
    "for sym, val in reversed(symList):\n",
    "  print(sym, val)"
   ]
  },
  {
   "cell_type": "code",
   "execution_count": null,
   "metadata": {},
   "outputs": [],
   "source": [
    "keyPair = [[\"I\", 1],\n",
    "           [\"IV\", 4],\n",
    "           [\"V\", 5],\n",
    "           [\"IX\", 9],\n",
    "           [\"X\", 10],\n",
    "           [\"XL\", 40],\n",
    "           [\"L\", 50],\n",
    "           [\"XC\", 90],\n",
    "           [\"C\", 100],\n",
    "           [\"CD\", 400],\n",
    "           [\"D\", 500],\n",
    "           [\"CM\", 900],\n",
    "           [\"M\", 1000]]\n"
   ]
  },
  {
   "cell_type": "code",
   "execution_count": 4,
   "metadata": {},
   "outputs": [
    {
     "ename": "IndexError",
     "evalue": "list index out of range",
     "output_type": "error",
     "traceback": [
      "\u001b[0;31m---------------------------------------------------------------------------\u001b[0m",
      "\u001b[0;31mIndexError\u001b[0m                                Traceback (most recent call last)",
      "\u001b[1;32m/Users/daniel/Developer/100-days-of-code/tmpPy.ipynb Cell 3\u001b[0m in \u001b[0;36m<cell line: 19>\u001b[0;34m()\u001b[0m\n\u001b[1;32m     <a href='vscode-notebook-cell:/Users/daniel/Developer/100-days-of-code/tmpPy.ipynb#ch0000002?line=13'>14</a>\u001b[0m   \u001b[39mreturn\u001b[39;00m count\n\u001b[1;32m     <a href='vscode-notebook-cell:/Users/daniel/Developer/100-days-of-code/tmpPy.ipynb#ch0000002?line=17'>18</a>\u001b[0m aList \u001b[39m=\u001b[39m [\u001b[39m1\u001b[39m, \u001b[39m5\u001b[39m, \u001b[39m0\u001b[39m, \u001b[39m3\u001b[39m, \u001b[39m5\u001b[39m]\n\u001b[0;32m---> <a href='vscode-notebook-cell:/Users/daniel/Developer/100-days-of-code/tmpPy.ipynb#ch0000002?line=18'>19</a>\u001b[0m \u001b[39mprint\u001b[39m(roundCounter(aList))\n",
      "\u001b[1;32m/Users/daniel/Developer/100-days-of-code/tmpPy.ipynb Cell 3\u001b[0m in \u001b[0;36mroundCounter\u001b[0;34m(x)\u001b[0m\n\u001b[1;32m      <a href='vscode-notebook-cell:/Users/daniel/Developer/100-days-of-code/tmpPy.ipynb#ch0000002?line=4'>5</a>\u001b[0m count \u001b[39m=\u001b[39m \u001b[39m0\u001b[39m\n\u001b[1;32m      <a href='vscode-notebook-cell:/Users/daniel/Developer/100-days-of-code/tmpPy.ipynb#ch0000002?line=5'>6</a>\u001b[0m \u001b[39mfor\u001b[39;00m i \u001b[39min\u001b[39;00m \u001b[39mrange\u001b[39m(\u001b[39mlen\u001b[39m(sorted_x)): \n\u001b[0;32m----> <a href='vscode-notebook-cell:/Users/daniel/Developer/100-days-of-code/tmpPy.ipynb#ch0000002?line=6'>7</a>\u001b[0m   \u001b[39mif\u001b[39;00m sorted_x[i] \u001b[39m==\u001b[39m \u001b[39m0\u001b[39m:\n\u001b[1;32m      <a href='vscode-notebook-cell:/Users/daniel/Developer/100-days-of-code/tmpPy.ipynb#ch0000002?line=7'>8</a>\u001b[0m     \u001b[39mcontinue\u001b[39;00m\n\u001b[1;32m      <a href='vscode-notebook-cell:/Users/daniel/Developer/100-days-of-code/tmpPy.ipynb#ch0000002?line=8'>9</a>\u001b[0m   \u001b[39melse\u001b[39;00m:\n",
      "\u001b[0;31mIndexError\u001b[0m: list index out of range"
     ]
    }
   ],
   "source": [
    "#07/30/2022\n",
    "def roundCounter(x: list):\n",
    "  sorted_x = sorted(x)\n",
    "  # [0, 1, 3, 5, 5]\n",
    "  count = 0\n",
    "  for i in range(len(sorted_x)): \n",
    "    if sorted_x[i] == 0:\n",
    "      continue\n",
    "    else:\n",
    "      sorted_x = [item - sorted_x[i]\n",
    "                  for item in sorted_x if item - sorted_x[i] != 0]\n",
    "      count += 1\n",
    "    \n",
    "  return count\n",
    "  \n",
    "\n",
    "\n",
    "aList = [1, 5, 0, 3, 5]\n",
    "print(roundCounter(aList))\n",
    "\n",
    "  "
   ]
  },
  {
   "cell_type": "code",
   "execution_count": 12,
   "metadata": {},
   "outputs": [
    {
     "name": "stdout",
     "output_type": "stream",
     "text": [
      "3\n"
     ]
    }
   ],
   "source": [
    "from collections import defaultdict\n",
    "def foo(nums: list):\n",
    "  defDict = defaultdict(int)\n",
    "  count = 0\n",
    "  for i in nums:\n",
    "    if defDict[i] == 0:\n",
    "      count += 1 \n",
    "    defDict[i] += 1\n",
    "  if defDict[0] >= 1:\n",
    "    count -= 1\n",
    "  return count\n",
    "  \n",
    "\n",
    "\n",
    "aList = [1, 5, 0, 3, 5]\n",
    "print(foo(aList))\n",
    "\n",
    "  "
   ]
  },
  {
   "cell_type": "code",
   "execution_count": null,
   "metadata": {},
   "outputs": [],
   "source": []
  }
 ],
 "metadata": {
  "kernelspec": {
   "display_name": "Python 3.8.9 64-bit",
   "language": "python",
   "name": "python3"
  },
  "language_info": {
   "codemirror_mode": {
    "name": "ipython",
    "version": 3
   },
   "file_extension": ".py",
   "mimetype": "text/x-python",
   "name": "python",
   "nbconvert_exporter": "python",
   "pygments_lexer": "ipython3",
   "version": "3.8.9"
  },
  "orig_nbformat": 4,
  "vscode": {
   "interpreter": {
    "hash": "31f2aee4e71d21fbe5cf8b01ff0e069b9275f58929596ceb00d14d90e3e16cd6"
   }
  }
 },
 "nbformat": 4,
 "nbformat_minor": 2
}
