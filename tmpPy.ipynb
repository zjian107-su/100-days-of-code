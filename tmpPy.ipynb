{
 "cells": [
  {
   "cell_type": "code",
   "execution_count": 3,
   "metadata": {},
   "outputs": [
    {
     "name": "stdout",
     "output_type": "stream",
     "text": [
      "[['A', 1], ['B', 2], ['C', 3]]\n",
      "C 3\n",
      "B 2\n",
      "A 1\n"
     ]
    }
   ],
   "source": [
    "symList = [['A', 1],['B', 2],['C', 3]]\n",
    "print(symList)\n",
    "\n",
    "for sym, val in reversed(symList):\n",
    "  print(sym, val)"
   ]
  },
  {
   "cell_type": "code",
   "execution_count": null,
   "metadata": {},
   "outputs": [],
   "source": [
    "keyPair = [[\"I\", 1],\n",
    "           [\"IV\", 4],\n",
    "           [\"V\", 5],\n",
    "           [\"IX\", 9],\n",
    "           [\"X\", 10],\n",
    "           [\"XL\", 40],\n",
    "           [\"L\", 50],\n",
    "           [\"XC\", 90],\n",
    "           [\"C\", 100],\n",
    "           [\"CD\", 400],\n",
    "           [\"D\", 500],\n",
    "           [\"CM\", 900],\n",
    "           [\"M\", 1000]]\n"
   ]
  },
  {
   "cell_type": "code",
   "execution_count": null,
   "metadata": {},
   "outputs": [],
   "source": []
  }
 ],
 "metadata": {
  "kernelspec": {
   "display_name": "Python 3.8.9 64-bit",
   "language": "python",
   "name": "python3"
  },
  "language_info": {
   "codemirror_mode": {
    "name": "ipython",
    "version": 3
   },
   "file_extension": ".py",
   "mimetype": "text/x-python",
   "name": "python",
   "nbconvert_exporter": "python",
   "pygments_lexer": "ipython3",
   "version": "3.8.9"
  },
  "orig_nbformat": 4,
  "vscode": {
   "interpreter": {
    "hash": "31f2aee4e71d21fbe5cf8b01ff0e069b9275f58929596ceb00d14d90e3e16cd6"
   }
  }
 },
 "nbformat": 4,
 "nbformat_minor": 2
}
